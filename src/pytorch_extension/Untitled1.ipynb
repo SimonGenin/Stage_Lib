{
 "cells": [
  {
   "cell_type": "code",
   "execution_count": 1,
   "metadata": {},
   "outputs": [],
   "source": [
    "import torch\n",
    "import torch.nn as nn\n",
    "import numpy as np"
   ]
  },
  {
   "cell_type": "code",
   "execution_count": 29,
   "metadata": {},
   "outputs": [
    {
     "name": "stdout",
     "output_type": "stream",
     "text": [
      "1 loop, best of 3: 4.04 s per loop\n"
     ]
    }
   ],
   "source": [
    "%%timeit\n",
    "\n",
    "number = 10\n",
    "size = 5\n",
    "\n",
    "a = torch.empty(number, size)\n",
    "b = torch.empty(number, size)\n",
    "c = torch.empty(number, size)\n",
    "\n",
    "#print(a)\n",
    "\n",
    "for i in range(number):\n",
    "    a[i] = torch.rand(size)\n",
    "    b[i] = torch.rand(size)\n",
    "    c[i] = torch.rand(size)\n",
    "    \n",
    "#print(a)\n",
    "\n",
    "for i in range(10000):\n",
    "    for j in range(number):\n",
    "        e = a[j] + b[j] + c[j]\n",
    "        a[j] = a[j] + e\n",
    "        b[j] = b[j] + e\n",
    "        c[j] = c[j] + e\n",
    "        \n",
    "#print(a)"
   ]
  },
  {
   "cell_type": "code",
   "execution_count": 32,
   "metadata": {},
   "outputs": [
    {
     "name": "stdout",
     "output_type": "stream",
     "text": [
      "1 loop, best of 3: 1.7 s per loop\n"
     ]
    }
   ],
   "source": [
    "%%timeit\n",
    "\n",
    "number = 10\n",
    "size = 5\n",
    "\n",
    "a = [None] * number\n",
    "b = [None] * number\n",
    "c = [None] * number\n",
    "\n",
    "#print(a)\n",
    "\n",
    "for i in range(number):\n",
    "    a[i] = torch.rand(size)\n",
    "    b[i] = torch.rand(size)\n",
    "    c[i] = torch.rand(size)\n",
    "    \n",
    "#print(a)\n",
    "    \n",
    "for i in range(10000):\n",
    "    for j in range(number):\n",
    "        e = a[j] + b[j] + c[j]\n",
    "        a[j] = a[j] + e\n",
    "        b[j] = b[j] + e\n",
    "        c[j] = c[j] + e\n",
    "        \n",
    "#print(a)"
   ]
  },
  {
   "cell_type": "code",
   "execution_count": 37,
   "metadata": {},
   "outputs": [
    {
     "name": "stdout",
     "output_type": "stream",
     "text": [
      "10 loops, best of 3: 40.1 ms per loop\n"
     ]
    }
   ],
   "source": [
    "%%timeit\n",
    "\n",
    "number = 10\n",
    "size = 5\n",
    "\n",
    "a = torch.empty(number, size)\n",
    "b = torch.empty(number, size)\n",
    "c = torch.empty(number, size)\n",
    "\n",
    "#print(a)\n",
    "\n",
    "for i in range(number):\n",
    "    a[i] = torch.rand(size)\n",
    "    b[i] = torch.rand(size)\n",
    "    c[i] = torch.rand(size)\n",
    "    \n",
    "    \n",
    "for i in range(100):\n",
    "    for j in range(number):\n",
    "        e = a[j] + b[j] + c[j]\n",
    "        a[j] = a[j] + e\n",
    "        b[j] = b[j] + e\n",
    "        c[j] = c[j] + e"
   ]
  },
  {
   "cell_type": "code",
   "execution_count": 38,
   "metadata": {},
   "outputs": [
    {
     "name": "stdout",
     "output_type": "stream",
     "text": [
      "100 loops, best of 3: 17.1 ms per loop\n"
     ]
    }
   ],
   "source": [
    "%%timeit\n",
    "\n",
    "number = 10\n",
    "size = 5\n",
    "\n",
    "a = [None] * number\n",
    "b = [None] * number\n",
    "c = [None] * number\n",
    "\n",
    "#print(a)\n",
    "\n",
    "for i in range(number):\n",
    "    a[i] = torch.rand(size)\n",
    "    b[i] = torch.rand(size)\n",
    "    c[i] = torch.rand(size)\n",
    "    \n",
    "    \n",
    "for i in range(100):\n",
    "    for j in range(number):\n",
    "        e = a[j] + b[j] + c[j]\n",
    "        a[j] = a[j] + e\n",
    "        b[j] = b[j] + e\n",
    "        c[j] = c[j] + e"
   ]
  },
  {
   "cell_type": "code",
   "execution_count": null,
   "metadata": {},
   "outputs": [],
   "source": []
  }
 ],
 "metadata": {
  "kernelspec": {
   "display_name": "Python 3",
   "language": "python",
   "name": "python3"
  },
  "language_info": {
   "codemirror_mode": {
    "name": "ipython",
    "version": 3
   },
   "file_extension": ".py",
   "mimetype": "text/x-python",
   "name": "python",
   "nbconvert_exporter": "python",
   "pygments_lexer": "ipython3",
   "version": "3.6.8"
  }
 },
 "nbformat": 4,
 "nbformat_minor": 2
}
