{
 "cells": [
  {
   "cell_type": "code",
   "execution_count": 1,
   "metadata": {},
   "outputs": [],
   "source": [
    "import torch\n",
    "from treelib import Tree, Node"
   ]
  },
  {
   "cell_type": "code",
   "execution_count": 3,
   "metadata": {},
   "outputs": [],
   "source": [
    "\n",
    "root_id = 0\n",
    "left_id = 1\n",
    "middle_id = 2\n",
    "right_id = 3\n",
    "botom_left_id = 4\n",
    "botom_right_id = 5\n",
    "\n",
    "features = 5\n",
    "\n",
    "N = 6\n"
   ]
  },
  {
   "cell_type": "code",
   "execution_count": 4,
   "metadata": {},
   "outputs": [
    {
     "data": {
      "text/plain": [
       "tensor([[-1.4633,  0.6768, -1.4848, -2.2866,  1.0574],\n        [ 0.0288, -0.2464,  0.6284,  0.3609,  0.1281],\n        [-1.8932,  1.3271,  0.4608, -0.4228, -0.2085],\n        [ 0.2593,  0.4280, -0.0259,  0.0154, -2.1332],\n        [ 0.8526,  1.1054, -2.1104,  0.6521,  0.5760],\n        [-0.5097, -1.1057, -1.5116, -0.6783,  0.6962]])"
      ]
     },
     "execution_count": 4,
     "metadata": {},
     "output_type": "execute_result"
    }
   ],
   "source": [
    "target = torch.randn(N, features, dtype=torch.float)\n",
    "target"
   ]
  },
  {
   "cell_type": "code",
   "execution_count": 5,
   "metadata": {},
   "outputs": [
    {
     "data": {
      "text/plain": [
       "Node(tag=5, identifier=5, data=5)"
      ]
     },
     "execution_count": 5,
     "metadata": {},
     "output_type": "execute_result"
    }
   ],
   "source": [
    "tree = Tree()\n",
    "tree.create_node(data=root_id, identifier=root_id)\n",
    "tree.create_node(data=left_id, identifier=left_id, parent=root_id)\n",
    "tree.create_node(data=middle_id, identifier=middle_id, parent=root_id)\n",
    "tree.create_node(data=right_id, identifier=right_id, parent=root_id)\n",
    "tree.create_node(data=botom_left_id, identifier=botom_left_id, parent=left_id)\n",
    "tree.create_node(data=botom_right_id, identifier=botom_right_id, parent=left_id)"
   ]
  },
  {
   "cell_type": "code",
   "execution_count": 6,
   "metadata": {},
   "outputs": [],
   "source": [
    ""
   ]
  },
  {
   "cell_type": "code",
   "execution_count": null,
   "metadata": {},
   "outputs": [],
   "source": [
    "\n"
   ]
  },
  {
   "cell_type": "code",
   "execution_count": 6,
   "metadata": {},
   "outputs": [],
   "source": [
    "W_code = torch.randn(N, features, dtype=torch.float, requires_grad=True)\n",
    "B_code = torch.ones(N, features, dtype=torch.float, requires_grad=True)"
   ]
  },
  {
   "cell_type": "code",
   "execution_count": 7,
   "metadata": {},
   "outputs": [],
   "source": [
    "def getChildrenIDs(id):\n",
    "    return [ c.data for c in tree.children(id) ]"
   ]
  },
  {
   "cell_type": "code",
   "execution_count": null,
   "metadata": {},
   "outputs": [],
   "source": []
  },
  {
   "cell_type": "code",
   "execution_count": null,
   "metadata": {},
   "outputs": [],
   "source": []
  },
  {
   "cell_type": "code",
   "execution_count": 9,
   "metadata": {},
   "outputs": [],
   "source": [
    "#\n",
    "# Combine the nodes\n",
    "# p = Wcomb1 * vec(P) + Wcomb2 * tanh( SUM( Wcode * vec(Ci) + Bcode)  )\n",
    "#\n",
    "class CombinationLayer:\n",
    "    \n",
    "    def __init__(self, tree, weight_code, weight_left_combination, weight_right_combination):\n",
    "        self.tree = tree\n",
    "        self.tree_size = tree.size()    \n",
    "        self.weight_code = weight_code\n",
    "        self.weight_left_combination = weight_left_combination\n",
    "        self.weight_right_combination = weight_right_combination\n",
    "        \n",
    "    def forward(self):\n",
    "        \"\"\"\n",
    "        Run the forward pass\n",
    "        \"\"\"\n",
    "        return self._combine_tree(self.tree)\n",
    "    \n",
    "    #def weight_code(self, node_id):\n",
    "    #    v = ( (self.tree_size - node_id)  / (self.tree_size - 1) ) * self.weight_code_left + ( (node_id - 1) / (self.tree_size - 1) ) * self.weight_code_right\n",
    "    #    # print(v)\n",
    "    #    return v\n",
    "        \n",
    "    def _combine(self, root_id, children_ids):\n",
    "        \"\"\"\n",
    "        Combine one node\n",
    "        \"\"\"\n",
    "        \n",
    "        # If there's no children, return vec(p)\n",
    "        if not children_ids: \n",
    "            return data[root_id]\n",
    "\n",
    "        left_comb = self.weight_left_combination[root_id] * data[root_id]\n",
    "        tot_sum = torch.zeros(N, features)\n",
    "        for child_id in children_ids:\n",
    "            tot_sum[child_id] = self.weight_code[child_id] * data[child_id] + B_code[child_id]\n",
    "        tanh_sum = torch.tanh(tot_sum.sum(dim=0))\n",
    "        right_comb = self.weight_right_combination[root_id] * tanh_sum\n",
    "        total = left_comb + right_comb\n",
    "\n",
    "        return total\n",
    "        \n",
    "    def _combine_tree(self, tree):\n",
    "        \"\"\"\n",
    "        Combine the tree\n",
    "        \"\"\"\n",
    "        tot = torch.zeros(N, features)\n",
    "        for n in tree.all_nodes():\n",
    "            tot[n.data] = self._combine(n.data, getChildrenIDs(n.data))\n",
    "        return tot "
   ]
  },
  {
   "cell_type": "code",
   "execution_count": null,
   "metadata": {},
   "outputs": [],
   "source": []
  },
  {
   "cell_type": "code",
   "execution_count": null,
   "metadata": {},
   "outputs": [],
   "source": [
    "w_code = torch.randn(N, features, dtype=torch.float)\n",
    "\n",
    "W_comb1 = torch.randn(N, features, dtype=torch.float, requires_grad=True)\n",
    "W_comb2 = torch.randn(N, features, dtype=torch.float, requires_grad=True)"
   ]
  },
  {
   "cell_type": "code",
   "execution_count": null,
   "metadata": {},
   "outputs": [],
   "source": [
    "learning_rate = 1e-4\n",
    "\n",
    "layer = CombinationLayer(tree, w_code, W_comb1, W_comb2)\n",
    "\n",
    "\n",
    "for t in range(1000):\n",
    "    \n",
    "    y_pred = layer.forward()\n",
    "    \n",
    "    loss = (y_pred - target).pow(2).sum() \n",
    "    \n",
    "    # if (t % 10 == 0): print(t, loss.item())\n",
    "    \n",
    "    loss.backward()\n",
    "    \n",
    "    with torch.no_grad():\n",
    "        \n",
    "        W_comb1 -= learning_rate * W_comb1.grad\n",
    "        W_comb2 -= learning_rate * W_comb2.grad\n",
    "        B_code -= learning_rate * B_code.grad\n",
    "        \n",
    "        W_comb1.grad.zero_()\n",
    "        W_comb2.grad.zero_()\n",
    "        B_code.grad.zero_()"
   ]
  }
 ],
 "metadata": {
  "kernelspec": {
   "display_name": "Python 3",
   "language": "python",
   "name": "python3"
  },
  "language_info": {
   "codemirror_mode": {
    "name": "ipython",
    "version": 3
   },
   "file_extension": ".py",
   "mimetype": "text/x-python",
   "name": "python",
   "nbconvert_exporter": "python",
   "pygments_lexer": "ipython3",
   "version": "3.6.8"
  }
 },
 "nbformat": 4,
 "nbformat_minor": 2
}
